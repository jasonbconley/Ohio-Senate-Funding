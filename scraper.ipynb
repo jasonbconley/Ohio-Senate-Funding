{
 "cells": [
  {
   "cell_type": "markdown",
   "id": "faab1d1a",
   "metadata": {},
   "source": [
    "# Purpose of Code\n",
    "The following code will scrape and download the most recent FEC filing made by each candidate. Selenium will be used to automate the browser, and is needed so that the javascript of the web page is executed. Pandas will be used for data manipulation. OS.path and time will allow the code to wait for downloads to finish."
   ]
  },
  {
   "cell_type": "code",
   "execution_count": 1,
   "id": "2b0adbd4",
   "metadata": {},
   "outputs": [],
   "source": [
    "from selenium import webdriver\n",
    "import pandas as pd\n",
    "import time\n",
    "import os.path"
   ]
  },
  {
   "cell_type": "markdown",
   "id": "3df1f739",
   "metadata": {},
   "source": [
    "The current version of the scraper is fetching Tim Ryan and J.D. Vance campaign finance data."
   ]
  },
  {
   "cell_type": "code",
   "execution_count": 2,
   "id": "5d6fe4ca",
   "metadata": {},
   "outputs": [],
   "source": [
    "ryan_url = 'https://www.fec.gov/data/reports/house-senate/?committee_id=C00777771&is_amended=false&data_type=processed&candidate_id=S2OH00402&cycle=2022'\n",
    "vance_url = 'https://www.fec.gov/data/reports/house-senate/?committee_id=C00772947&committee_id=C00783142&is_amended=false&data_type=processed&candidate_id=S2OH00436&cycle=2022'"
   ]
  },
  {
   "cell_type": "markdown",
   "id": "baff05d9",
   "metadata": {},
   "source": [
    "Preferences are needed to ensure downloads go the right directory"
   ]
  },
  {
   "cell_type": "code",
   "execution_count": 3,
   "id": "f83d17ee",
   "metadata": {},
   "outputs": [],
   "source": [
    "prefs = {\"download.default_directory\" : \"/users/jason/Documents/Github/Ohio-Senate-Funding\"};\n",
    "options = webdriver.ChromeOptions()\n",
    "options.add_experimental_option(\"prefs\",prefs);"
   ]
  },
  {
   "cell_type": "code",
   "execution_count": 4,
   "id": "dc21c8cd",
   "metadata": {},
   "outputs": [],
   "source": [
    "driver = webdriver.Chrome('/users/jason/Documents/chromedriver', options=options)\n",
    "driver.get(ryan_url)\n",
    "driver.implicitly_wait(5)"
   ]
  },
  {
   "cell_type": "markdown",
   "id": "ebbdd3ef",
   "metadata": {},
   "source": [
    "The code parses the website HTML, and uses the xpath function to find all elements with the text '.csv.' By viewing the structure of the web page, I know that the first element of this list will be the most recent filing made by the candidate."
   ]
  },
  {
   "cell_type": "code",
   "execution_count": 5,
   "id": "4a334dee",
   "metadata": {},
   "outputs": [
    {
     "data": {
      "text/plain": [
       "'https://docquery.fec.gov/csv/647/1627647.csv'"
      ]
     },
     "execution_count": 5,
     "metadata": {},
     "output_type": "execute_result"
    }
   ],
   "source": [
    "links = driver.find_elements_by_xpath(\"//*[contains(text(), '.csv')]\")\n",
    "ryan_link = links[0].get_attribute('href')\n",
    "ryan_link"
   ]
  },
  {
   "cell_type": "markdown",
   "id": "94561484",
   "metadata": {},
   "source": [
    "If one opens the link above, they will see that the page is essentially a text file that can be downloaded, but because the link does not *initiate* a download, traditional *request* and *read_csv* methods cannot be used. So, the driver.get() method is used to initiate the download into the directory specified earlier."
   ]
  },
  {
   "cell_type": "code",
   "execution_count": 6,
   "id": "6ce457bd",
   "metadata": {},
   "outputs": [],
   "source": [
    "filename = ryan_link[ryan_link.rfind('/')+1:]\n",
    "driver.get(ryan_link)\n",
    "\n",
    "while not os.path.exists('/users/jason/Documents/Github/Ohio-Senate-Funding/{}'.format(filename)):\n",
    "    time.sleep(1)"
   ]
  },
  {
   "cell_type": "markdown",
   "id": "0b8e996e",
   "metadata": {},
   "source": [
    "Now, the code repeats all of the above steps for the next candidates data."
   ]
  },
  {
   "cell_type": "code",
   "execution_count": 7,
   "id": "cf106102",
   "metadata": {},
   "outputs": [],
   "source": [
    "driver.get(vance_url)\n",
    "driver.implicitly_wait(5)"
   ]
  },
  {
   "cell_type": "code",
   "execution_count": 8,
   "id": "446ffabc",
   "metadata": {},
   "outputs": [
    {
     "data": {
      "text/plain": [
       "'https://docquery.fec.gov/csv/061/1628061.csv'"
      ]
     },
     "execution_count": 8,
     "metadata": {},
     "output_type": "execute_result"
    }
   ],
   "source": [
    "links = driver.find_elements_by_xpath(\"//*[contains(text(), '.csv')]\")\n",
    "vance_link = links[0].get_attribute('href')\n",
    "vance_link"
   ]
  },
  {
   "cell_type": "code",
   "execution_count": 9,
   "id": "8964db66",
   "metadata": {},
   "outputs": [],
   "source": [
    "filename = vance_link[vance_link.rfind('/')+1:]\n",
    "driver.get(vance_link)\n",
    "\n",
    "while not os.path.exists('/users/jason/Documents/Github/Ohio-Senate-Funding/{}'.format(filename)):\n",
    "    time.sleep(1)\n",
    "\n",
    "# Selenium is no longer eneded\n",
    "driver.close()"
   ]
  },
  {
   "cell_type": "code",
   "execution_count": 10,
   "id": "942de60d",
   "metadata": {},
   "outputs": [],
   "source": []
  },
  {
   "cell_type": "code",
   "execution_count": null,
   "id": "d9cb4c13",
   "metadata": {},
   "outputs": [],
   "source": []
  }
 ],
 "metadata": {
  "kernelspec": {
   "display_name": "Python 3 (ipykernel)",
   "language": "python",
   "name": "python3"
  },
  "language_info": {
   "codemirror_mode": {
    "name": "ipython",
    "version": 3
   },
   "file_extension": ".py",
   "mimetype": "text/x-python",
   "name": "python",
   "nbconvert_exporter": "python",
   "pygments_lexer": "ipython3",
   "version": "3.10.4"
  },
  "vscode": {
   "interpreter": {
    "hash": "1cf820b1aad3862ccb0e4fc5457123b7d43ee0f4650ef0ab83ae2bacc6810235"
   }
  }
 },
 "nbformat": 4,
 "nbformat_minor": 5
}
