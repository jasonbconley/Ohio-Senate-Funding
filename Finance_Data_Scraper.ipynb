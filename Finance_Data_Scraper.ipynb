{
 "cells": [
  {
   "cell_type": "markdown",
   "id": "faab1d1a",
   "metadata": {},
   "source": [
    "# Purpose of Code\n",
    "The following code will scrape and download the most recent FEC filing made by each candidate. Selenium will be used to automate the browser, and is needed so that the javascript of the web page is executed. Pandas will be used for data manipulation. OS.path and time will allow the code to wait for downloads to finish."
   ]
  },
  {
   "cell_type": "code",
   "execution_count": 50,
   "id": "2b0adbd4",
   "metadata": {},
   "outputs": [],
   "source": [
    "from selenium import webdriver\n",
    "import pandas as pd\n",
    "import time\n",
    "import os.path\n",
    "import chromedriver_autoinstaller"
   ]
  },
  {
   "cell_type": "markdown",
   "id": "3df1f739",
   "metadata": {},
   "source": [
    "The current version of the scraper is fetching Tim Ryan and J.D. Vance campaign finance data."
   ]
  },
  {
   "cell_type": "code",
   "execution_count": 51,
   "id": "5d6fe4ca",
   "metadata": {},
   "outputs": [],
   "source": [
    "ryan_url = 'https://www.fec.gov/data/reports/house-senate/?committee_id=C00777771&is_amended=false&data_type=processed&candidate_id=S2OH00402&cycle=2022'\n",
    "vance_url = 'https://www.fec.gov/data/reports/house-senate/?committee_id=C00772947&committee_id=C00783142&is_amended=false&data_type=processed&candidate_id=S2OH00436&cycle=2022'"
   ]
  },
  {
   "cell_type": "markdown",
   "id": "baff05d9",
   "metadata": {},
   "source": [
    "Preferences are needed to ensure downloads go the right directory"
   ]
  },
  {
   "cell_type": "code",
   "execution_count": 52,
   "id": "f83d17ee",
   "metadata": {},
   "outputs": [],
   "source": [
    "chromedriver_autoinstaller.install()\n",
    "#prefs = {\"download.default_directory\" : \"/users/jason/Documents/Github/Ohio-Senate-Funding\"};\n",
    "#options = webdriver.ChromeOptions()\n",
    "#options.add_experimental_option(\"prefs\",prefs)"
   ]
  },
  {
   "cell_type": "code",
   "execution_count": 53,
   "id": "dc21c8cd",
   "metadata": {},
   "outputs": [],
   "source": [
    "#driver = webdriver.Chrome(options=options)\n",
    "driver = webdriver.Chrome(/chromedriver)\n",
    "driver.get(ryan_url)\n",
    "driver.implicitly_wait(5)"
   ]
  },
  {
   "cell_type": "markdown",
   "id": "ebbdd3ef",
   "metadata": {},
   "source": [
    "The code parses the website HTML, and uses the xpath function to find all elements with the text '.csv.' By viewing the structure of the web page, I know that the first element of this list will be the most recent filing made by the candidate."
   ]
  },
  {
   "cell_type": "code",
   "execution_count": 54,
   "id": "4a334dee",
   "metadata": {},
   "outputs": [
    {
     "data": {
      "text/plain": [
       "'https://docquery.fec.gov/csv/647/1627647.csv'"
      ]
     },
     "execution_count": 54,
     "metadata": {},
     "output_type": "execute_result"
    }
   ],
   "source": [
    "links = driver.find_elements_by_xpath(\"//*[contains(text(), '.csv')]\")\n",
    "ryan_link = links[0].get_attribute('href')\n",
    "ryan_link"
   ]
  },
  {
   "cell_type": "markdown",
   "id": "94561484",
   "metadata": {},
   "source": [
    "If one opens the link above, they will see that the page is essentially a text file that can be downloaded, but because the link does not *initiate* a download, traditional *request* and *read_csv* methods cannot be used. So, the driver.get() method is used to initiate the download into the directory specified earlier."
   ]
  },
  {
   "cell_type": "code",
   "execution_count": 55,
   "id": "6ce457bd",
   "metadata": {},
   "outputs": [],
   "source": [
    "ryan_file = ryan_link[ryan_link.rfind('/')+1:]\n",
    "driver.get(ryan_link)\n",
    "\n",
    "while not os.path.exists('/users/jason/Documents/Github/Ohio-Senate-Funding/{}'.format(ryan_file)):\n",
    "    time.sleep(1)"
   ]
  },
  {
   "cell_type": "markdown",
   "id": "0b8e996e",
   "metadata": {},
   "source": [
    "Now, the code repeats all of the above steps for the next candidates data."
   ]
  },
  {
   "cell_type": "code",
   "execution_count": 56,
   "id": "cf106102",
   "metadata": {},
   "outputs": [],
   "source": [
    "driver.get(vance_url)\n",
    "driver.implicitly_wait(5)"
   ]
  },
  {
   "cell_type": "code",
   "execution_count": 57,
   "id": "446ffabc",
   "metadata": {},
   "outputs": [
    {
     "data": {
      "text/plain": [
       "'https://docquery.fec.gov/csv/061/1628061.csv'"
      ]
     },
     "execution_count": 57,
     "metadata": {},
     "output_type": "execute_result"
    }
   ],
   "source": [
    "links = driver.find_elements_by_xpath(\"//*[contains(text(), '.csv')]\")\n",
    "vance_link = links[0].get_attribute('href')\n",
    "vance_link"
   ]
  },
  {
   "cell_type": "code",
   "execution_count": 58,
   "id": "8964db66",
   "metadata": {},
   "outputs": [],
   "source": [
    "vance_file = vance_link[vance_link.rfind('/')+1:]\n",
    "driver.get(vance_link)\n",
    "\n",
    "while not os.path.exists('/users/jason/Documents/Github/Ohio-Senate-Funding/{}'.format(vance_file)):\n",
    "    time.sleep(1)\n",
    "\n",
    "# Selenium is no longer needed\n",
    "driver.close()"
   ]
  },
  {
   "cell_type": "markdown",
   "id": "617c560d",
   "metadata": {},
   "source": [
    "The data from FEC is pretty messy, the following cells are an attempt to clean it up. From here on out, it is crucial to understand the dimensions of the CSV file and grab the necessary data. \n",
    "The cell directly below was inspired by the link in the comment at the top of the cell. The FEC data is stored in columns with conflicting data types, so the functions convert the columns with majority integers or strings to the majority data type."
   ]
  },
  {
   "cell_type": "code",
   "execution_count": 59,
   "id": "942de60d",
   "metadata": {},
   "outputs": [],
   "source": [
    "# Helpful guide https://www.roelpeters.be/solved-dtypewarning-columns-have-mixed-types-specify-dtype-option-on-import-or-set-low-memory-in-pandas/\n",
    "\n",
    "def convert_string(x):\n",
    "    if not x:\n",
    "        return ''\n",
    "    try:\n",
    "        return str(x)   \n",
    "    except:        \n",
    "        return ''\n",
    "\n",
    "def convert_int(x):\n",
    "    if not x:\n",
    "        return ''\n",
    "    try:\n",
    "        return str(x)   \n",
    "    except:        \n",
    "        return ''\n",
    "\n",
    "convert_dict = {10:convert_string, 18:convert_string, 22:convert_int, 27:convert_string, 28:convert_string, 29:convert_string, 30:convert_string, 32:convert_string, 33:convert_string, 34:convert_string, 41:convert_string}\n",
    "\n",
    "ryan = pd.read_csv(ryan_file, converters=convert_dict, header=1)\n",
    "vance = pd.read_csv(vance_file, converters=convert_dict, header=1)\n",
    "\n",
    "os.remove(ryan_file)\n",
    "os.remove(vance_file)"
   ]
  },
  {
   "cell_type": "markdown",
   "id": "9b5b80cb",
   "metadata": {},
   "source": [
    "Now, the data comprehension is again very important. Here, the *relevant* data is gathered into a dataframe for each candidate."
   ]
  },
  {
   "cell_type": "code",
   "execution_count": 60,
   "id": "bd5bad92",
   "metadata": {},
   "outputs": [
    {
     "data": {
      "text/html": [
       "<div>\n",
       "<style scoped>\n",
       "    .dataframe tbody tr th:only-of-type {\n",
       "        vertical-align: middle;\n",
       "    }\n",
       "\n",
       "    .dataframe tbody tr th {\n",
       "        vertical-align: top;\n",
       "    }\n",
       "\n",
       "    .dataframe thead th {\n",
       "        text-align: right;\n",
       "    }\n",
       "</style>\n",
       "<table border=\"1\" class=\"dataframe\">\n",
       "  <thead>\n",
       "    <tr style=\"text-align: right;\">\n",
       "      <th></th>\n",
       "      <th>Type</th>\n",
       "      <th>Address</th>\n",
       "      <th>City</th>\n",
       "      <th>State</th>\n",
       "      <th>Amount</th>\n",
       "    </tr>\n",
       "  </thead>\n",
       "  <tbody>\n",
       "    <tr>\n",
       "      <th>1</th>\n",
       "      <td>PAC</td>\n",
       "      <td>PO Box 382110</td>\n",
       "      <td>Cambridge</td>\n",
       "      <td>MA</td>\n",
       "      <td>50.0</td>\n",
       "    </tr>\n",
       "    <tr>\n",
       "      <th>2</th>\n",
       "      <td>IND</td>\n",
       "      <td>3837 Garrison St NW</td>\n",
       "      <td>Washington</td>\n",
       "      <td>DC</td>\n",
       "      <td>400.0</td>\n",
       "    </tr>\n",
       "    <tr>\n",
       "      <th>3</th>\n",
       "      <td>PAC</td>\n",
       "      <td>PO Box 382110</td>\n",
       "      <td>Cambridge</td>\n",
       "      <td>MA</td>\n",
       "      <td>400.0</td>\n",
       "    </tr>\n",
       "    <tr>\n",
       "      <th>4</th>\n",
       "      <td>IND</td>\n",
       "      <td>5417 S Oneida Way</td>\n",
       "      <td>Greenwood Village</td>\n",
       "      <td>CO</td>\n",
       "      <td>500.0</td>\n",
       "    </tr>\n",
       "    <tr>\n",
       "      <th>5</th>\n",
       "      <td>PAC</td>\n",
       "      <td>PO Box 382110</td>\n",
       "      <td>Cambridge</td>\n",
       "      <td>MA</td>\n",
       "      <td>500.0</td>\n",
       "    </tr>\n",
       "  </tbody>\n",
       "</table>\n",
       "</div>"
      ],
      "text/plain": [
       "  Type              Address               City State  Amount\n",
       "1  PAC        PO Box 382110          Cambridge    MA    50.0\n",
       "2  IND  3837 Garrison St NW         Washington    DC   400.0\n",
       "3  PAC        PO Box 382110          Cambridge    MA   400.0\n",
       "4  IND    5417 S Oneida Way  Greenwood Village    CO   500.0\n",
       "5  PAC        PO Box 382110          Cambridge    MA   500.0"
      ]
     },
     "execution_count": 60,
     "metadata": {},
     "output_type": "execute_result"
    }
   ],
   "source": [
    "ryan_details = pd.DataFrame()\n",
    "ryan_details['Type'] = ryan.iloc[:,5]\n",
    "ryan_details['Address'] = ryan.iloc[:,12]\n",
    "ryan_details['City'] = ryan.iloc[:,14]\n",
    "ryan_details['State'] = ryan.iloc[:,15]\n",
    "ryan_details['Amount'] = ryan.fillna(0).iloc[:,20]\n",
    "ryan_details = ryan_details.iloc[1:]\n",
    "ryan_details.head()"
   ]
  },
  {
   "cell_type": "code",
   "execution_count": 64,
   "id": "6188a5a3",
   "metadata": {},
   "outputs": [
    {
     "data": {
      "text/html": [
       "<div>\n",
       "<style scoped>\n",
       "    .dataframe tbody tr th:only-of-type {\n",
       "        vertical-align: middle;\n",
       "    }\n",
       "\n",
       "    .dataframe tbody tr th {\n",
       "        vertical-align: top;\n",
       "    }\n",
       "\n",
       "    .dataframe thead th {\n",
       "        text-align: right;\n",
       "    }\n",
       "</style>\n",
       "<table border=\"1\" class=\"dataframe\">\n",
       "  <thead>\n",
       "    <tr style=\"text-align: right;\">\n",
       "      <th></th>\n",
       "      <th>Type</th>\n",
       "      <th>Address</th>\n",
       "      <th>City</th>\n",
       "      <th>State</th>\n",
       "      <th>Amount</th>\n",
       "    </tr>\n",
       "  </thead>\n",
       "  <tbody>\n",
       "    <tr>\n",
       "      <th>3</th>\n",
       "      <td>IND</td>\n",
       "      <td>70539 CHERMONT ROAD</td>\n",
       "      <td>BRIDGEPORT</td>\n",
       "      <td>OH</td>\n",
       "      <td>100.0</td>\n",
       "    </tr>\n",
       "    <tr>\n",
       "      <th>4</th>\n",
       "      <td>PAC</td>\n",
       "      <td>PO BOX 9891</td>\n",
       "      <td>ARLINGTON</td>\n",
       "      <td>VA</td>\n",
       "      <td>115.5</td>\n",
       "    </tr>\n",
       "    <tr>\n",
       "      <th>5</th>\n",
       "      <td>IND</td>\n",
       "      <td>2547 WALTERS AVENUE</td>\n",
       "      <td>NORTHBROOK</td>\n",
       "      <td>IL</td>\n",
       "      <td>25.0</td>\n",
       "    </tr>\n",
       "    <tr>\n",
       "      <th>6</th>\n",
       "      <td>PAC</td>\n",
       "      <td>PO BOX 9891</td>\n",
       "      <td>ARLINGTON</td>\n",
       "      <td>VA</td>\n",
       "      <td>115.0</td>\n",
       "    </tr>\n",
       "    <tr>\n",
       "      <th>7</th>\n",
       "      <td>IND</td>\n",
       "      <td>617 HUNTS GROVE DRIVE</td>\n",
       "      <td>NORTH AUGUSTA</td>\n",
       "      <td>SC</td>\n",
       "      <td>10.0</td>\n",
       "    </tr>\n",
       "  </tbody>\n",
       "</table>\n",
       "</div>"
      ],
      "text/plain": [
       "  Type                Address           City State  Amount\n",
       "3  IND    70539 CHERMONT ROAD     BRIDGEPORT    OH   100.0\n",
       "4  PAC            PO BOX 9891      ARLINGTON    VA   115.5\n",
       "5  IND    2547 WALTERS AVENUE     NORTHBROOK    IL    25.0\n",
       "6  PAC            PO BOX 9891      ARLINGTON    VA   115.0\n",
       "7  IND  617 HUNTS GROVE DRIVE  NORTH AUGUSTA    SC    10.0"
      ]
     },
     "execution_count": 64,
     "metadata": {},
     "output_type": "execute_result"
    }
   ],
   "source": [
    "vance_details = pd.DataFrame()\n",
    "vance_details['Type'] = vance.iloc[:,5]\n",
    "vance_details['Address'] = vance.iloc[:,12]\n",
    "vance_details['City'] = vance.iloc[:,14]\n",
    "vance_details['State'] = vance.iloc[:,15]\n",
    "vance_details['Amount'] = vance.fillna(0).iloc[:,20]\n",
    "vance_details = vance_details.iloc[3:]\n",
    "vance_details.head()"
   ]
  },
  {
   "cell_type": "markdown",
   "id": "c3f55264",
   "metadata": {},
   "source": [
    "The scraper has now completed its job. The sums for the contributions are given"
   ]
  },
  {
   "cell_type": "code",
   "execution_count": 69,
   "id": "b3610c92",
   "metadata": {},
   "outputs": [
    {
     "name": "stdout",
     "output_type": "stream",
     "text": [
      "Total for Ryan:\t 20090921.0\n",
      "Total for J.D.:\t 3569365.0\n"
     ]
    }
   ],
   "source": [
    "print(\"Total for Ryan:\\t {}\".format(round(sum(ryan_details['Amount']),0)))\n",
    "print(\"Total for J.D.:\\t {}\".format(round(sum(vance_details['Amount']),0)))"
   ]
  },
  {
   "cell_type": "code",
   "execution_count": 65,
   "id": "59841cf4",
   "metadata": {},
   "outputs": [],
   "source": [
    "ryan_details.to_csv('data/tim_ryan.csv')\n",
    "vance_details.to_csv('data/jd_vance.csv')"
   ]
  }
 ],
 "metadata": {
  "kernelspec": {
   "display_name": "Python 3 (ipykernel)",
   "language": "python",
   "name": "python3"
  },
  "language_info": {
   "codemirror_mode": {
    "name": "ipython",
    "version": 3
   },
   "file_extension": ".py",
   "mimetype": "text/x-python",
   "name": "python",
   "nbconvert_exporter": "python",
   "pygments_lexer": "ipython3",
   "version": "3.10.2"
  },
  "vscode": {
   "interpreter": {
    "hash": "1cf820b1aad3862ccb0e4fc5457123b7d43ee0f4650ef0ab83ae2bacc6810235"
   }
  }
 },
 "nbformat": 4,
 "nbformat_minor": 5
}
