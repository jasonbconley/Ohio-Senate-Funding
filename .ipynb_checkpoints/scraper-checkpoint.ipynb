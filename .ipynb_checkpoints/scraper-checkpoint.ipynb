{
 "cells": [
  {
   "cell_type": "code",
   "execution_count": 1,
   "id": "2b0adbd4",
   "metadata": {},
   "outputs": [],
   "source": [
    "import requests\n",
    "import bs4"
   ]
  },
  {
   "cell_type": "code",
   "execution_count": 13,
   "id": "e94e8323",
   "metadata": {},
   "outputs": [],
   "source": [
    "URL = 'https://www.opensecrets.org/members-of-congress/tim-ryan/contributors?cid=N00025280&cycle=2022&type=C'"
   ]
  },
  {
   "cell_type": "code",
   "execution_count": 14,
   "id": "ec7931c9",
   "metadata": {},
   "outputs": [],
   "source": [
    "ryan_page = requests.get(URL)"
   ]
  },
  {
   "cell_type": "code",
   "execution_count": 15,
   "id": "d1d3716e",
   "metadata": {},
   "outputs": [
    {
     "data": {
      "text/plain": [
       "200"
      ]
     },
     "execution_count": 15,
     "metadata": {},
     "output_type": "execute_result"
    }
   ],
   "source": [
    "ryan_page.status_code"
   ]
  },
  {
   "cell_type": "code",
   "execution_count": 16,
   "id": "d9985232",
   "metadata": {},
   "outputs": [],
   "source": [
    "soup = bs4.BeautifulSoup(ryan_page.text, 'html.parser')"
   ]
  },
  {
   "cell_type": "code",
   "execution_count": 17,
   "id": "f87ba740",
   "metadata": {},
   "outputs": [],
   "source": [
    "table = soup.find('table')"
   ]
  },
  {
   "cell_type": "code",
   "execution_count": 18,
   "id": "47fd8790",
   "metadata": {},
   "outputs": [
    {
     "data": {
      "text/plain": [
       "<table class=\"DataTable\">\n",
       "<thead>\n",
       "<tr>\n",
       "<th>Rank</th>\n",
       "<th>Contributor</th>\n",
       "<th class=\"number\">Total</th>\n",
       "<th class=\"number\">Individuals</th>\n",
       "<th class=\"number\">PACs</th>\n",
       "</tr>\n",
       "</thead>\n",
       "<tbody>\n",
       "<tr>\n",
       "<td>1</td>\n",
       "<td>\n",
       "<a href=\"/orgs/recipients?id=D000025328&amp;cycle=2022\">Democracy Engine</a></td>\n",
       "<td class=\"number\">$121,382</td>\n",
       "<td class=\"number\">$121,382</td>\n",
       "<td class=\"number\">$0</td>\n",
       "</tr>\n",
       "<tr>\n",
       "<td>2</td>\n",
       "<td>\n",
       "<a href=\"/orgs/recipients?id=D000000162&amp;cycle=2022\">Akin, Gump et al</a></td>\n",
       "<td class=\"number\">$45,303</td>\n",
       "<td class=\"number\">$45,303</td>\n",
       "<td class=\"number\">$0</td>\n",
       "</tr>\n",
       "<tr>\n",
       "<td>3</td>\n",
       "<td>\n",
       "<a href=\"/orgs/recipients?id=D000060932&amp;cycle=2022\">Debartolo Holdings</a></td>\n",
       "<td class=\"number\">$44,800</td>\n",
       "<td class=\"number\">$44,800</td>\n",
       "<td class=\"number\">$0</td>\n",
       "</tr>\n",
       "<tr>\n",
       "<td>4</td>\n",
       "<td>\n",
       "<a href=\"/orgs/recipients?id=D000036364&amp;cycle=2022\">Ohio State University</a></td>\n",
       "<td class=\"number\">$44,178</td>\n",
       "<td class=\"number\">$44,178</td>\n",
       "<td class=\"number\">$0</td>\n",
       "</tr>\n",
       "<tr>\n",
       "<td>5</td>\n",
       "<td>\n",
       "<a href=\"/orgs/recipients?id=D000090111&amp;cycle=2022\">Remington Road Group</a></td>\n",
       "<td class=\"number\">$41,389</td>\n",
       "<td class=\"number\">$41,389</td>\n",
       "<td class=\"number\">$0</td>\n",
       "</tr>\n",
       "<tr>\n",
       "<td>6</td>\n",
       "<td>\n",
       "<a href=\"/orgs/recipients?id=D000067823&amp;cycle=2022\">Alphabet Inc</a></td>\n",
       "<td class=\"number\">$34,533</td>\n",
       "<td class=\"number\">$33,533</td>\n",
       "<td class=\"number\">$1,000</td>\n",
       "</tr>\n",
       "<tr>\n",
       "<td>7</td>\n",
       "<td>\n",
       "<a href=\"/orgs/recipients?id=D000021859&amp;cycle=2022\">Bain Capital</a></td>\n",
       "<td class=\"number\">$30,300</td>\n",
       "<td class=\"number\">$30,300</td>\n",
       "<td class=\"number\">$0</td>\n",
       "</tr>\n",
       "<tr>\n",
       "<td>8</td>\n",
       "<td>\n",
       "\t\t\t\t\t\t\t\tNational Center for Defense Manufactur</td>\n",
       "<td class=\"number\">$29,000</td>\n",
       "<td class=\"number\">$29,000</td>\n",
       "<td class=\"number\">$0</td>\n",
       "</tr>\n",
       "<tr>\n",
       "<td>9</td>\n",
       "<td>\n",
       "<a href=\"/orgs/recipients?id=D000032666&amp;cycle=2022\">Cleveland Clinic                        </a></td>\n",
       "<td class=\"number\">$28,551</td>\n",
       "<td class=\"number\">$28,551</td>\n",
       "<td class=\"number\">$0</td>\n",
       "</tr>\n",
       "<tr>\n",
       "<td>10</td>\n",
       "<td>\n",
       "<a href=\"/orgs/recipients?id=D000026556&amp;cycle=2022\">Huntington Bancshares                   </a></td>\n",
       "<td class=\"number\">$28,538</td>\n",
       "<td class=\"number\">$3,538</td>\n",
       "<td class=\"number\">$25,000</td>\n",
       "</tr>\n",
       "<tr>\n",
       "<td>11</td>\n",
       "<td>\n",
       "<a href=\"/orgs/recipients?id=D000021746&amp;cycle=2022\">Buchanan, Ingersoll &amp; Rooney</a></td>\n",
       "<td class=\"number\">$27,250</td>\n",
       "<td class=\"number\">$27,250</td>\n",
       "<td class=\"number\">$0</td>\n",
       "</tr>\n",
       "<tr>\n",
       "<td>12</td>\n",
       "<td>\n",
       "<a href=\"/orgs/recipients?id=D000031918&amp;cycle=2022\">Berger Singerman PA</a></td>\n",
       "<td class=\"number\">$26,990</td>\n",
       "<td class=\"number\">$26,990</td>\n",
       "<td class=\"number\">$0</td>\n",
       "</tr>\n",
       "<tr>\n",
       "<td>13</td>\n",
       "<td>\n",
       "<a href=\"/orgs/recipients?id=D000019809&amp;cycle=2022\">Council for a Livable World</a></td>\n",
       "<td class=\"number\">$26,755</td>\n",
       "<td class=\"number\">$26,755</td>\n",
       "<td class=\"number\">$0</td>\n",
       "</tr>\n",
       "<tr>\n",
       "<td>14</td>\n",
       "<td>\n",
       "<a href=\"/orgs/recipients?id=D000000069&amp;cycle=2022\">International Brotherhood of Electrical Workers</a></td>\n",
       "<td class=\"number\">$26,064</td>\n",
       "<td class=\"number\">$1,064</td>\n",
       "<td class=\"number\">$25,000</td>\n",
       "</tr>\n",
       "<tr>\n",
       "<td>15</td>\n",
       "<td>\n",
       "<a href=\"/orgs/recipients?id=D000030810&amp;cycle=2022\">Veritas Capital                         </a></td>\n",
       "<td class=\"number\">$25,432</td>\n",
       "<td class=\"number\">$432</td>\n",
       "<td class=\"number\">$25,000</td>\n",
       "</tr>\n",
       "<tr>\n",
       "<td>16</td>\n",
       "<td>\n",
       "<a href=\"/orgs/recipients?id=D000048677&amp;cycle=2022\">Cincinnati Children's Hospital Medical Center</a></td>\n",
       "<td class=\"number\">$23,364</td>\n",
       "<td class=\"number\">$23,364</td>\n",
       "<td class=\"number\">$0</td>\n",
       "</tr>\n",
       "<tr>\n",
       "<td>17</td>\n",
       "<td>\n",
       "<a href=\"/orgs/recipients?id=D000031973&amp;cycle=2022\">Phantom Fireworks</a></td>\n",
       "<td class=\"number\">$23,200</td>\n",
       "<td class=\"number\">$23,200</td>\n",
       "<td class=\"number\">$0</td>\n",
       "</tr>\n",
       "<tr>\n",
       "<td>17</td>\n",
       "<td>\n",
       "\t\t\t\t\t\t\t\tSafety Controls Technology</td>\n",
       "<td class=\"number\">$23,200</td>\n",
       "<td class=\"number\">$23,200</td>\n",
       "<td class=\"number\">$0</td>\n",
       "</tr>\n",
       "<tr>\n",
       "<td>19</td>\n",
       "<td>\n",
       "\t\t\t\t\t\t\t\tStudent Resource Center</td>\n",
       "<td class=\"number\">$23,000</td>\n",
       "<td class=\"number\">$23,000</td>\n",
       "<td class=\"number\">$0</td>\n",
       "</tr>\n",
       "<tr>\n",
       "<td>20</td>\n",
       "<td>\n",
       "<a href=\"/orgs/recipients?id=D000021867&amp;cycle=2022\">Baupost Group</a></td>\n",
       "<td class=\"number\">$22,400</td>\n",
       "<td class=\"number\">$22,400</td>\n",
       "<td class=\"number\">$0</td>\n",
       "</tr>\n",
       "</tbody>\n",
       "</table>"
      ]
     },
     "execution_count": 18,
     "metadata": {},
     "output_type": "execute_result"
    }
   ],
   "source": [
    "table"
   ]
  },
  {
   "cell_type": "code",
   "execution_count": null,
   "id": "eb6818dd",
   "metadata": {},
   "outputs": [],
   "source": []
  }
 ],
 "metadata": {
  "kernelspec": {
   "display_name": "Python 3 (ipykernel)",
   "language": "python",
   "name": "python3"
  },
  "language_info": {
   "codemirror_mode": {
    "name": "ipython",
    "version": 3
   },
   "file_extension": ".py",
   "mimetype": "text/x-python",
   "name": "python",
   "nbconvert_exporter": "python",
   "pygments_lexer": "ipython3",
   "version": "3.10.4"
  }
 },
 "nbformat": 4,
 "nbformat_minor": 5
}
