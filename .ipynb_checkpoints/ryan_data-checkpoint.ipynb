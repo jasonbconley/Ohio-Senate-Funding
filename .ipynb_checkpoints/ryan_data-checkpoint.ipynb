{
 "cells": [
  {
   "cell_type": "code",
   "execution_count": 1,
   "id": "50cf3fbb",
   "metadata": {},
   "outputs": [],
   "source": [
    "import requests\n",
    "import json5\n",
    "import urllib as url\n",
    "import pandas as pd"
   ]
  },
  {
   "cell_type": "code",
   "execution_count": 4,
   "id": "eb3d605e",
   "metadata": {},
   "outputs": [],
   "source": [
    "# Need to replace with your token file\n",
    "token = pd.read_csv('token.txt', header = 0)['API'].iloc[0]"
   ]
  },
  {
   "cell_type": "code",
   "execution_count": 8,
   "id": "c7ef87d2",
   "metadata": {},
   "outputs": [],
   "source": [
    "endpoint = 'https://www.opensecrets.org/api/'"
   ]
  },
  {
   "cell_type": "markdown",
   "id": "c819af11",
   "metadata": {},
   "source": [
    "Below is the candidate ID (CID) for accessing the open secrets API to pull data. J.D. Vance does not have a CID according to the OpenSecrets excel file @ https://www.opensecrets.org/downloads/crp/CRP_IDs.xls"
   ]
  },
  {
   "cell_type": "code",
   "execution_count": 6,
   "id": "be1aabc8",
   "metadata": {},
   "outputs": [],
   "source": [
    "tim_ryan = 'H2OH17109'"
   ]
  },
  {
   "cell_type": "code",
   "execution_count": 10,
   "id": "cae45daf",
   "metadata": {},
   "outputs": [],
   "source": [
    "method = 'candIndustry'"
   ]
  },
  {
   "cell_type": "code",
   "execution_count": 23,
   "id": "5afec68b",
   "metadata": {},
   "outputs": [
    {
     "data": {
      "text/plain": [
       "'https://www.opensecrets.org/api/?method=candIndustry&cid=H2OH17109&apikey=__6152f359ff116921de21cd1d9bc7ca25__'"
      ]
     },
     "execution_count": 23,
     "metadata": {},
     "output_type": "execute_result"
    }
   ],
   "source": [
    "search_url = endpoint + '?method={}&cid={}&apikey=__{}__'.format(method, tim_ryan, token)"
   ]
  },
  {
   "cell_type": "code",
   "execution_count": 24,
   "id": "fbf300b3",
   "metadata": {},
   "outputs": [
    {
     "data": {
      "text/plain": [
       "<Response [400]>"
      ]
     },
     "execution_count": 24,
     "metadata": {},
     "output_type": "execute_result"
    }
   ],
   "source": [
    "response = requests.get(search_url)\n",
    "response"
   ]
  },
  {
   "cell_type": "code",
   "execution_count": null,
   "id": "4c0f2ba2",
   "metadata": {},
   "outputs": [],
   "source": []
  }
 ],
 "metadata": {
  "kernelspec": {
   "display_name": "Python 3 (ipykernel)",
   "language": "python",
   "name": "python3"
  },
  "language_info": {
   "codemirror_mode": {
    "name": "ipython",
    "version": 3
   },
   "file_extension": ".py",
   "mimetype": "text/x-python",
   "name": "python",
   "nbconvert_exporter": "python",
   "pygments_lexer": "ipython3",
   "version": "3.10.4"
  }
 },
 "nbformat": 4,
 "nbformat_minor": 5
}
