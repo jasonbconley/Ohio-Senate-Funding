{
 "cells": [
  {
   "cell_type": "markdown",
   "id": "ff762e4b",
   "metadata": {},
   "source": [
    "The following code will use the Nominatim (Names) API to append a latitude and a longitude column to both the Tim Ryan & J.D. Vance data"
   ]
  },
  {
   "cell_type": "code",
   "execution_count": 1,
   "id": "2bf00061",
   "metadata": {},
   "outputs": [],
   "source": [
    "import pandas as pd\n",
    "from geopy.geocoders import Nominatim\n",
    "import requests\n",
    "import json5"
   ]
  },
  {
   "cell_type": "code",
   "execution_count": 2,
   "id": "1be2ac5e",
   "metadata": {},
   "outputs": [],
   "source": [
    "ryan = pd.read_csv('../data/tim_ryan.csv')\n",
    "vance = pd.read_csv('../data/jd_vance.csv')"
   ]
  },
  {
   "cell_type": "raw",
   "id": "15f82683",
   "metadata": {},
   "source": [
    "The API was used because of the large number of requests that are needed to be made. I think this is because Nominatim wants to have an *email* tag on requests to see who is making a large number of requests. \n",
    "\n",
    "The below code defines our API endpoint, and some footer data that will be appened to every URL. The first block of code in this cell, before the dictionary definition, is doing a lookup for the ACT BLUE data. I believe this PAC (Political Action Committee) often does a Donation Matching Event because the PAC has an entry almost every other row. This data is stored so that the code is not constantly querying the API for too many of the same requests. \n",
    "\n",
    "On the same note, I defined a dictionary to store results into for quicker lookups, and also to lessen the burden on the API. When I was not using this method, the lists were growing at about 2 ~ 4 a second, and Tim's data has 80 thousand rows, much too slow. With the dictionary implemented fully, it wasn't long before the lists were growing at ~ 100 a second and even more later on.\n",
    "\n",
    "I could have removed the API lookup for ACT BLUE and let the entry happen organically, but I like to think that having a variable with the lat and lon stored has *some* kind of performance benefit. Part of me thinks that I am probably just accessing another kind of dictionary to grab the variable data on the backend. Either way, this approach was faster.\n",
    "\n",
    "The same thing happens in the cell after Tim's, just now for J.D. Vance. I removed the ACT BLUE lookup as I don't think the performance issue will happen this time. It might need to be replaced with some other PAC though. Only execution time will tell.\n",
    "\n",
    "NOTE: This cells below will take very long as the files begin to grow. This is because it is making calls to the API whenever it is needed, which is everytime a new city state combo is encountered."
   ]
  },
  {
   "cell_type": "code",
   "execution_count": 3,
   "id": "ccb761e4",
   "metadata": {},
   "outputs": [],
   "source": [
    "# API References\n",
    "endpoint = 'https://nominatim.openstreetmap.org/search?'\n",
    "footer = '&format=json&limit=1&email=jasonbconley@outlook.com'\n",
    "\n",
    "# ACT BLUE Lookup\n",
    "query = 'city={}&state={}'.format('Cambridge','MA')\n",
    "search_url = endpoint + query + footer\n",
    "response = requests.get(search_url)\n",
    "details = json5.loads(response.text)\n",
    "\n",
    "act_blue_lat = details[0]['lat']\n",
    "act_blue_lon = details[0]['lon']\n",
    "\n",
    "# Data Lookups\n",
    "coord_dict = dict()\n",
    "\n",
    "lat = []\n",
    "lon = []\n",
    "\n",
    "# Action\n",
    "for index, row in ryan.iterrows():\n",
    "    city = row['City']\n",
    "    state = row['State']\n",
    "    \n",
    "    # Some entries are poorly structured for credit statements, the length check ignores them\n",
    "    if (len(state) == 2):\n",
    "        if (city == 'Cambridge' and state == 'MA'):\n",
    "            lat.append(act_blue_lat)\n",
    "            lon.append(act_blue_lon)\n",
    "\n",
    "        elif ( ( city + ' ' + state ) in coord_dict.keys()): \n",
    "            latVal, lonVal = coord_dict[city + ' ' + state].split(' ')\n",
    "            lat.append(latVal)\n",
    "            lon.append(lonVal)\n",
    "\n",
    "        else:\n",
    "            query = 'city={}&state={}'.format(city,state)\n",
    "            search_url = endpoint + query + footer\n",
    "            response = requests.get(search_url)\n",
    "\n",
    "            details = json5.loads(response.text)\n",
    "\n",
    "            if (len(details) > 0):\n",
    "                latVal = details[0]['lat']\n",
    "                lonVal = details[0]['lon']\n",
    "                lat.append(latVal)\n",
    "                lon.append(lonVal)\n",
    "                coord_dict[city + ' ' + state] = ( latVal + ' ' + lonVal )\n",
    "            else:\n",
    "                lat.append(None)\n",
    "                lon.append(None)\n",
    "    else:\n",
    "        lat.append(None)\n",
    "        lon.append(None)\n",
    "\n",
    "ryan['lat'] = lat\n",
    "ryan['lon'] = lon"
   ]
  },
  {
   "cell_type": "code",
   "execution_count": 4,
   "id": "bc372f09",
   "metadata": {},
   "outputs": [],
   "source": [
    "coord_dict = dict()\n",
    "\n",
    "lat = []\n",
    "lon = []\n",
    "\n",
    "for index, row in vance.iterrows():\n",
    "    city = row['City']\n",
    "    state = row['State']\n",
    "    \n",
    "    if (len(state) == 2):\n",
    "        if ( ( city + ' ' + state ) in coord_dict.keys()): \n",
    "            latVal, lonVal = coord_dict[city + ' ' + state].split(' ')\n",
    "            lat.append(latVal)\n",
    "            lon.append(lonVal)\n",
    "\n",
    "        else:\n",
    "            query = 'city={}&state={}'.format(city,state)\n",
    "            search_url = endpoint + query + footer\n",
    "            response = requests.get(search_url)\n",
    "\n",
    "            details = json5.loads(response.text)\n",
    "\n",
    "            if (len(details) > 0):\n",
    "                latVal = details[0]['lat']\n",
    "                lonVal = details[0]['lon']\n",
    "                lat.append(latVal)\n",
    "                lon.append(lonVal)\n",
    "                coord_dict[city + ' ' + state] = ( latVal + ' ' + lonVal )\n",
    "            else:\n",
    "                lat.append(None)\n",
    "                lon.append(None)\n",
    "    else:\n",
    "        lat.append(None)\n",
    "        lon.append(None)\n",
    "\n",
    "vance['lat'] = lat\n",
    "vance['lon'] = lon"
   ]
  },
  {
   "cell_type": "code",
   "execution_count": 7,
   "id": "dcc5aca4",
   "metadata": {},
   "outputs": [],
   "source": [
    "ryan.dropna(axis = 0, subset = ['lat', 'lon'], inplace = True)\n",
    "vance.dropna(axis = 0, subset = ['lat', 'lon'], inplace = True)\n",
    "\n",
    "flag = []\n",
    "for index, row in ryan.iterrows():\n",
    "    if (row['State'] == 'OH'):\n",
    "        flag.append('In state')\n",
    "    else:\n",
    "        flag.append('Out of state')\n",
    "\n",
    "ryan['State flag'] = flag\n",
    "\n",
    "flag = []\n",
    "for index, row in vance.iterrows():\n",
    "    if (row['State'] == 'OH'):\n",
    "        flag.append('In state')\n",
    "    else:\n",
    "        flag.append('Out of state')\n",
    "\n",
    "vance['State flag'] = flag "
   ]
  },
  {
   "cell_type": "code",
   "execution_count": 14,
   "id": "7c4c8990",
   "metadata": {},
   "outputs": [],
   "source": [
    "ryan.to_csv('../data/tim_ryan_coords.csv')\n",
    "vance.to_csv('../data/jd_vance_coors.csv')"
   ]
  }
 ],
 "metadata": {
  "kernelspec": {
   "display_name": "Python 3 (ipykernel)",
   "language": "python",
   "name": "python3"
  },
  "language_info": {
   "codemirror_mode": {
    "name": "ipython",
    "version": 3
   },
   "file_extension": ".py",
   "mimetype": "text/x-python",
   "name": "python",
   "nbconvert_exporter": "python",
   "pygments_lexer": "ipython3",
   "version": "3.10.4"
  }
 },
 "nbformat": 4,
 "nbformat_minor": 5
}
